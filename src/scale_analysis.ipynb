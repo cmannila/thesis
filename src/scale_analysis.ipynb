{
 "cells": [
  {
   "cell_type": "markdown",
   "metadata": {},
   "source": [
    "#### Level analysis"
   ]
  },
  {
   "cell_type": "code",
   "execution_count": 7,
   "metadata": {},
   "outputs": [],
   "source": [
    "import numpy as np\n",
    "import matplotlib.pyplot as plt"
   ]
  },
  {
   "cell_type": "code",
   "execution_count": 19,
   "metadata": {},
   "outputs": [
    {
     "name": "stdout",
     "output_type": "stream",
     "text": [
      "-----------------------------------------------------\n",
      "Scale: 0 Original mean: 86.65680697762609 Blurred mean: 34.901362984218075\n",
      "Scale: 1 Original mean: 77.98521046643914 Blurred mean: 38.136298421807744\n",
      "Scale: 2 Original mean: 68.07698141827835 Blurred mean: 37.82388809182209\n",
      "Scale: 3 Original mean: 57.38187334091771 Blurred mean: 34.980989956958396\n",
      "Scale: 4 Original mean: 46.35039817974972 Blurred mean: 31.351147776183645\n",
      "Scale: 5 Original mean: 36.666666666666664 Blurred mean: 26.02044476327116\n",
      "Scale: 6 Original mean: 30.849450132726584 Blurred mean: 23.248565279770446\n",
      "Scale: 7 Original mean: 21.41296928327645 Blurred mean: 17.52152080344333\n",
      "-----------------------------------------------------\n",
      "Total mean, Original: 425.38035646568073 Blurred mean: 243.9842180774749\n",
      "Total mapped keypoints, Original 1121728.0 Blurred data: 680228.0\n"
     ]
    }
   ],
   "source": [
    "blurred_data = np.loadtxt('./level_data/2blurred_octaves.txt')\n",
    "original_data = np.loadtxt('./level_data/original_octaves.txt')\n",
    "\n",
    "blur_mean = np.mean(blurred_data, axis=0)\n",
    "original_mean = np.mean(original_data, axis=0)\n",
    "\n",
    "print('-----------------------------------------------------')\n",
    "for i, (o_m, b_m) in enumerate(zip(original_mean, blur_mean)): \n",
    "    print(f'Scale: {i} Original mean: {o_m} Blurred mean: {b_m}')\n",
    "print('-----------------------------------------------------')\n",
    "print(f'Total mean, Original: {np.sum(original_mean)} Blurred mean: {np.sum(blur_mean)}')\n",
    "print(f'Total mapped keypoints, Original {np.sum(original_data)} Blurred data: {np.sum(blurred_data)}')"
   ]
  },
  {
   "cell_type": "code",
   "execution_count": 12,
   "metadata": {},
   "outputs": [],
   "source": [
    "\n"
   ]
  }
 ],
 "metadata": {
  "kernelspec": {
   "display_name": "Python 3 (ipykernel)",
   "language": "python",
   "name": "python3"
  },
  "language_info": {
   "codemirror_mode": {
    "name": "ipython",
    "version": 3
   },
   "file_extension": ".py",
   "mimetype": "text/x-python",
   "name": "python",
   "nbconvert_exporter": "python",
   "pygments_lexer": "ipython3",
   "version": "3.10.6"
  }
 },
 "nbformat": 4,
 "nbformat_minor": 4
}
